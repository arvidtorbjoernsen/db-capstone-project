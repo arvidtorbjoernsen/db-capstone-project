{
 "cells": [
  {
   "cell_type": "code",
   "execution_count": null,
   "id": "86497d92",
   "metadata": {},
   "outputs": [],
   "source": [
    "!pip install mysql-connector-python"
   ]
  },
  {
   "cell_type": "code",
   "execution_count": 5,
   "id": "8d244447",
   "metadata": {
    "ExecuteTime": {
     "end_time": "2023-06-13T13:11:51.090733800Z",
     "start_time": "2023-06-13T13:11:51.028154500Z"
    }
   },
   "outputs": [],
   "source": [
    "import mysql.connector as connector"
   ]
  },
  {
   "cell_type": "code",
   "execution_count": 6,
   "id": "d5080dd7",
   "metadata": {
    "ExecuteTime": {
     "end_time": "2023-06-13T13:11:52.563720400Z",
     "start_time": "2023-06-13T13:11:52.528586100Z"
    }
   },
   "outputs": [],
   "source": [
    "connection = connector.connect(user = \"user\", password = \"UserPassword1\", db = \"LittleLemonDB\")"
   ]
  },
  {
   "cell_type": "code",
   "execution_count": 7,
   "id": "0e9e9d0b",
   "metadata": {
    "ExecuteTime": {
     "end_time": "2023-06-13T13:11:54.340158Z",
     "start_time": "2023-06-13T13:11:54.323509Z"
    }
   },
   "outputs": [],
   "source": [
    "cursor = connection.cursor()"
   ]
  },
  {
   "cell_type": "code",
   "execution_count": 8,
   "id": "74e18b2c",
   "metadata": {
    "ExecuteTime": {
     "end_time": "2023-06-13T13:11:57.134469400Z",
     "start_time": "2023-06-13T13:11:57.122247800Z"
    }
   },
   "outputs": [],
   "source": [
    "show_tables_query = \"SHOW tables\"\n",
    "cursor.execute(show_tables_query)"
   ]
  },
  {
   "cell_type": "code",
   "execution_count": 9,
   "id": "9e79f78e",
   "metadata": {
    "ExecuteTime": {
     "end_time": "2023-06-13T13:11:58.971983300Z",
     "start_time": "2023-06-13T13:11:58.954442500Z"
    }
   },
   "outputs": [],
   "source": [
    "results = cursor.fetchall()"
   ]
  },
  {
   "cell_type": "code",
   "execution_count": null,
   "id": "8c278eb4",
   "metadata": {},
   "outputs": [],
   "source": [
    "print(results)"
   ]
  },
  {
   "cell_type": "code",
   "execution_count": 11,
   "id": "2a8a53be",
   "metadata": {
    "ExecuteTime": {
     "end_time": "2023-06-13T13:12:04.308731Z",
     "start_time": "2023-06-13T13:12:04.292701500Z"
    }
   },
   "outputs": [],
   "source": [
    "get_all_customers_order_above_60 = \"\"\"\n",
    "    SELECT Name, PhoneNumber, Email FROM Customers\n",
    "    INNER JOIN Orders\n",
    "    ON Customers.CustomerID = Orders.CustomerID\n",
    "    WHERE TotalCost > 60;\n",
    "\"\"\""
   ]
  },
  {
   "cell_type": "code",
   "execution_count": 12,
   "outputs": [],
   "source": [
    "cursor.execute(get_all_customers_order_above_60)"
   ],
   "metadata": {
    "collapsed": false,
    "ExecuteTime": {
     "end_time": "2023-06-13T13:12:07.765462400Z",
     "start_time": "2023-06-13T13:12:07.737375300Z"
    }
   }
  },
  {
   "cell_type": "code",
   "execution_count": 13,
   "outputs": [],
   "source": [
    "results = cursor.fetchall()"
   ],
   "metadata": {
    "collapsed": false,
    "ExecuteTime": {
     "end_time": "2023-06-13T13:12:32.622309500Z",
     "start_time": "2023-06-13T13:12:32.588614700Z"
    }
   }
  },
  {
   "cell_type": "code",
   "execution_count": null,
   "outputs": [],
   "source": [
    "print(results)"
   ],
   "metadata": {
    "collapsed": false
   }
  },
  {
   "cell_type": "code",
   "execution_count": null,
   "outputs": [],
   "source": [],
   "metadata": {
    "collapsed": false
   }
  }
 ],
 "metadata": {
  "kernelspec": {
   "display_name": "Python 3 (ipykernel)",
   "language": "python",
   "name": "python3"
  },
  "language_info": {
   "codemirror_mode": {
    "name": "ipython",
    "version": 3
   },
   "file_extension": ".py",
   "mimetype": "text/x-python",
   "name": "python",
   "nbconvert_exporter": "python",
   "pygments_lexer": "ipython3",
   "version": "3.11.3"
  }
 },
 "nbformat": 4,
 "nbformat_minor": 5
}
